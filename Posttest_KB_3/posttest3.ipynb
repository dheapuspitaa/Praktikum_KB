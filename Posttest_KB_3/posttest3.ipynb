{
 "cells": [
  {
   "cell_type": "markdown",
   "metadata": {},
   "source": [
    "Import Library"
   ]
  },
  {
   "cell_type": "code",
   "execution_count": 126,
   "metadata": {},
   "outputs": [],
   "source": [
    "import pandas as pd \n",
    "import seaborn as sns\n",
    "import matplotlib.pyplot as plt"
   ]
  },
  {
   "cell_type": "markdown",
   "metadata": {},
   "source": [
    "Menampilkan Dataset"
   ]
  },
  {
   "cell_type": "code",
   "execution_count": 127,
   "metadata": {},
   "outputs": [
    {
     "data": {
      "text/html": [
       "<div>\n",
       "<style scoped>\n",
       "    .dataframe tbody tr th:only-of-type {\n",
       "        vertical-align: middle;\n",
       "    }\n",
       "\n",
       "    .dataframe tbody tr th {\n",
       "        vertical-align: top;\n",
       "    }\n",
       "\n",
       "    .dataframe thead th {\n",
       "        text-align: right;\n",
       "    }\n",
       "</style>\n",
       "<table border=\"1\" class=\"dataframe\">\n",
       "  <thead>\n",
       "    <tr style=\"text-align: right;\">\n",
       "      <th></th>\n",
       "      <th>id</th>\n",
       "      <th>total_bill_amount</th>\n",
       "      <th>tip_amount</th>\n",
       "      <th>sex</th>\n",
       "      <th>smoker</th>\n",
       "      <th>day</th>\n",
       "      <th>time</th>\n",
       "      <th>party_size</th>\n",
       "      <th>bill_per_person</th>\n",
       "      <th>tip_percentage</th>\n",
       "      <th>is_weekend</th>\n",
       "      <th>meal_time</th>\n",
       "      <th>is_smoker</th>\n",
       "      <th>sex_binary</th>\n",
       "      <th>tip_per_person</th>\n",
       "    </tr>\n",
       "  </thead>\n",
       "  <tbody>\n",
       "    <tr>\n",
       "      <th>0</th>\n",
       "      <td>1</td>\n",
       "      <td>0.291579</td>\n",
       "      <td>0.001111</td>\n",
       "      <td>Female</td>\n",
       "      <td>No</td>\n",
       "      <td>Sun</td>\n",
       "      <td>Dinner</td>\n",
       "      <td>0.2</td>\n",
       "      <td>0.322989</td>\n",
       "      <td>0.035287</td>\n",
       "      <td>1</td>\n",
       "      <td>1</td>\n",
       "      <td>0</td>\n",
       "      <td>0</td>\n",
       "      <td>0.035795</td>\n",
       "    </tr>\n",
       "    <tr>\n",
       "      <th>1</th>\n",
       "      <td>2</td>\n",
       "      <td>0.152283</td>\n",
       "      <td>0.073333</td>\n",
       "      <td>Male</td>\n",
       "      <td>No</td>\n",
       "      <td>Sun</td>\n",
       "      <td>Dinner</td>\n",
       "      <td>0.4</td>\n",
       "      <td>0.032854</td>\n",
       "      <td>0.185123</td>\n",
       "      <td>1</td>\n",
       "      <td>1</td>\n",
       "      <td>0</td>\n",
       "      <td>1</td>\n",
       "      <td>0.052273</td>\n",
       "    </tr>\n",
       "    <tr>\n",
       "      <th>2</th>\n",
       "      <td>3</td>\n",
       "      <td>0.375786</td>\n",
       "      <td>0.277778</td>\n",
       "      <td>Male</td>\n",
       "      <td>No</td>\n",
       "      <td>Sun</td>\n",
       "      <td>Dinner</td>\n",
       "      <td>0.4</td>\n",
       "      <td>0.237261</td>\n",
       "      <td>0.194083</td>\n",
       "      <td>1</td>\n",
       "      <td>1</td>\n",
       "      <td>0</td>\n",
       "      <td>1</td>\n",
       "      <td>0.261364</td>\n",
       "    </tr>\n",
       "    <tr>\n",
       "      <th>3</th>\n",
       "      <td>4</td>\n",
       "      <td>0.431713</td>\n",
       "      <td>0.256667</td>\n",
       "      <td>Male</td>\n",
       "      <td>No</td>\n",
       "      <td>Sun</td>\n",
       "      <td>Dinner</td>\n",
       "      <td>0.2</td>\n",
       "      <td>0.515230</td>\n",
       "      <td>0.154352</td>\n",
       "      <td>1</td>\n",
       "      <td>1</td>\n",
       "      <td>0</td>\n",
       "      <td>1</td>\n",
       "      <td>0.427841</td>\n",
       "    </tr>\n",
       "    <tr>\n",
       "      <th>4</th>\n",
       "      <td>5</td>\n",
       "      <td>0.450775</td>\n",
       "      <td>0.290000</td>\n",
       "      <td>Female</td>\n",
       "      <td>No</td>\n",
       "      <td>Sun</td>\n",
       "      <td>Dinner</td>\n",
       "      <td>0.6</td>\n",
       "      <td>0.188075</td>\n",
       "      <td>0.164767</td>\n",
       "      <td>1</td>\n",
       "      <td>1</td>\n",
       "      <td>0</td>\n",
       "      <td>0</td>\n",
       "      <td>0.171307</td>\n",
       "    </tr>\n",
       "    <tr>\n",
       "      <th>...</th>\n",
       "      <td>...</td>\n",
       "      <td>...</td>\n",
       "      <td>...</td>\n",
       "      <td>...</td>\n",
       "      <td>...</td>\n",
       "      <td>...</td>\n",
       "      <td>...</td>\n",
       "      <td>...</td>\n",
       "      <td>...</td>\n",
       "      <td>...</td>\n",
       "      <td>...</td>\n",
       "      <td>...</td>\n",
       "      <td>...</td>\n",
       "      <td>...</td>\n",
       "      <td>...</td>\n",
       "    </tr>\n",
       "    <tr>\n",
       "      <th>239</th>\n",
       "      <td>240</td>\n",
       "      <td>0.543779</td>\n",
       "      <td>0.546667</td>\n",
       "      <td>Male</td>\n",
       "      <td>No</td>\n",
       "      <td>Sat</td>\n",
       "      <td>Dinner</td>\n",
       "      <td>0.4</td>\n",
       "      <td>0.390900</td>\n",
       "      <td>0.249425</td>\n",
       "      <td>1</td>\n",
       "      <td>1</td>\n",
       "      <td>0</td>\n",
       "      <td>1</td>\n",
       "      <td>0.536364</td>\n",
       "    </tr>\n",
       "    <tr>\n",
       "      <th>240</th>\n",
       "      <td>241</td>\n",
       "      <td>0.505027</td>\n",
       "      <td>0.111111</td>\n",
       "      <td>Female</td>\n",
       "      <td>Yes</td>\n",
       "      <td>Sat</td>\n",
       "      <td>Dinner</td>\n",
       "      <td>0.2</td>\n",
       "      <td>0.615805</td>\n",
       "      <td>0.056240</td>\n",
       "      <td>1</td>\n",
       "      <td>1</td>\n",
       "      <td>1</td>\n",
       "      <td>0</td>\n",
       "      <td>0.204545</td>\n",
       "    </tr>\n",
       "    <tr>\n",
       "      <th>241</th>\n",
       "      <td>242</td>\n",
       "      <td>0.410557</td>\n",
       "      <td>0.111111</td>\n",
       "      <td>Male</td>\n",
       "      <td>Yes</td>\n",
       "      <td>Sat</td>\n",
       "      <td>Dinner</td>\n",
       "      <td>0.2</td>\n",
       "      <td>0.486207</td>\n",
       "      <td>0.077936</td>\n",
       "      <td>1</td>\n",
       "      <td>1</td>\n",
       "      <td>1</td>\n",
       "      <td>1</td>\n",
       "      <td>0.204545</td>\n",
       "    </tr>\n",
       "    <tr>\n",
       "      <th>242</th>\n",
       "      <td>243</td>\n",
       "      <td>0.308965</td>\n",
       "      <td>0.083333</td>\n",
       "      <td>Male</td>\n",
       "      <td>No</td>\n",
       "      <td>Sat</td>\n",
       "      <td>Dinner</td>\n",
       "      <td>0.2</td>\n",
       "      <td>0.346839</td>\n",
       "      <td>0.092731</td>\n",
       "      <td>1</td>\n",
       "      <td>1</td>\n",
       "      <td>0</td>\n",
       "      <td>1</td>\n",
       "      <td>0.161932</td>\n",
       "    </tr>\n",
       "    <tr>\n",
       "      <th>243</th>\n",
       "      <td>244</td>\n",
       "      <td>0.329074</td>\n",
       "      <td>0.222222</td>\n",
       "      <td>Female</td>\n",
       "      <td>No</td>\n",
       "      <td>Thur</td>\n",
       "      <td>Dinner</td>\n",
       "      <td>0.2</td>\n",
       "      <td>0.374425</td>\n",
       "      <td>0.183941</td>\n",
       "      <td>0</td>\n",
       "      <td>1</td>\n",
       "      <td>0</td>\n",
       "      <td>0</td>\n",
       "      <td>0.375000</td>\n",
       "    </tr>\n",
       "  </tbody>\n",
       "</table>\n",
       "<p>244 rows × 15 columns</p>\n",
       "</div>"
      ],
      "text/plain": [
       "      id  total_bill_amount  tip_amount     sex smoker   day    time  \\\n",
       "0      1           0.291579    0.001111  Female     No   Sun  Dinner   \n",
       "1      2           0.152283    0.073333    Male     No   Sun  Dinner   \n",
       "2      3           0.375786    0.277778    Male     No   Sun  Dinner   \n",
       "3      4           0.431713    0.256667    Male     No   Sun  Dinner   \n",
       "4      5           0.450775    0.290000  Female     No   Sun  Dinner   \n",
       "..   ...                ...         ...     ...    ...   ...     ...   \n",
       "239  240           0.543779    0.546667    Male     No   Sat  Dinner   \n",
       "240  241           0.505027    0.111111  Female    Yes   Sat  Dinner   \n",
       "241  242           0.410557    0.111111    Male    Yes   Sat  Dinner   \n",
       "242  243           0.308965    0.083333    Male     No   Sat  Dinner   \n",
       "243  244           0.329074    0.222222  Female     No  Thur  Dinner   \n",
       "\n",
       "     party_size  bill_per_person  tip_percentage  is_weekend  meal_time  \\\n",
       "0           0.2         0.322989        0.035287           1          1   \n",
       "1           0.4         0.032854        0.185123           1          1   \n",
       "2           0.4         0.237261        0.194083           1          1   \n",
       "3           0.2         0.515230        0.154352           1          1   \n",
       "4           0.6         0.188075        0.164767           1          1   \n",
       "..          ...              ...             ...         ...        ...   \n",
       "239         0.4         0.390900        0.249425           1          1   \n",
       "240         0.2         0.615805        0.056240           1          1   \n",
       "241         0.2         0.486207        0.077936           1          1   \n",
       "242         0.2         0.346839        0.092731           1          1   \n",
       "243         0.2         0.374425        0.183941           0          1   \n",
       "\n",
       "     is_smoker  sex_binary  tip_per_person  \n",
       "0            0           0        0.035795  \n",
       "1            0           1        0.052273  \n",
       "2            0           1        0.261364  \n",
       "3            0           1        0.427841  \n",
       "4            0           0        0.171307  \n",
       "..         ...         ...             ...  \n",
       "239          0           1        0.536364  \n",
       "240          1           0        0.204545  \n",
       "241          1           1        0.204545  \n",
       "242          0           1        0.161932  \n",
       "243          0           0        0.375000  \n",
       "\n",
       "[244 rows x 15 columns]"
      ]
     },
     "execution_count": 127,
     "metadata": {},
     "output_type": "execute_result"
    }
   ],
   "source": [
    "tipsData = pd.read_csv('enhanced_tips_dataset.csv')\n",
    "tipsData"
   ]
  },
  {
   "cell_type": "code",
   "execution_count": 128,
   "metadata": {},
   "outputs": [
    {
     "data": {
      "text/html": [
       "<div>\n",
       "<style scoped>\n",
       "    .dataframe tbody tr th:only-of-type {\n",
       "        vertical-align: middle;\n",
       "    }\n",
       "\n",
       "    .dataframe tbody tr th {\n",
       "        vertical-align: top;\n",
       "    }\n",
       "\n",
       "    .dataframe thead th {\n",
       "        text-align: right;\n",
       "    }\n",
       "</style>\n",
       "<table border=\"1\" class=\"dataframe\">\n",
       "  <thead>\n",
       "    <tr style=\"text-align: right;\">\n",
       "      <th></th>\n",
       "      <th>id</th>\n",
       "      <th>total_bill_amount</th>\n",
       "      <th>tip_amount</th>\n",
       "      <th>sex</th>\n",
       "      <th>smoker</th>\n",
       "      <th>day</th>\n",
       "      <th>time</th>\n",
       "      <th>party_size</th>\n",
       "      <th>bill_per_person</th>\n",
       "      <th>tip_percentage</th>\n",
       "      <th>is_weekend</th>\n",
       "      <th>meal_time</th>\n",
       "      <th>is_smoker</th>\n",
       "      <th>sex_binary</th>\n",
       "      <th>tip_per_person</th>\n",
       "    </tr>\n",
       "  </thead>\n",
       "  <tbody>\n",
       "    <tr>\n",
       "      <th>0</th>\n",
       "      <td>1</td>\n",
       "      <td>0.291579</td>\n",
       "      <td>0.001111</td>\n",
       "      <td>Female</td>\n",
       "      <td>No</td>\n",
       "      <td>Sun</td>\n",
       "      <td>Dinner</td>\n",
       "      <td>0.2</td>\n",
       "      <td>0.322989</td>\n",
       "      <td>0.035287</td>\n",
       "      <td>1</td>\n",
       "      <td>1</td>\n",
       "      <td>0</td>\n",
       "      <td>0</td>\n",
       "      <td>0.035795</td>\n",
       "    </tr>\n",
       "    <tr>\n",
       "      <th>1</th>\n",
       "      <td>2</td>\n",
       "      <td>0.152283</td>\n",
       "      <td>0.073333</td>\n",
       "      <td>Male</td>\n",
       "      <td>No</td>\n",
       "      <td>Sun</td>\n",
       "      <td>Dinner</td>\n",
       "      <td>0.4</td>\n",
       "      <td>0.032854</td>\n",
       "      <td>0.185123</td>\n",
       "      <td>1</td>\n",
       "      <td>1</td>\n",
       "      <td>0</td>\n",
       "      <td>1</td>\n",
       "      <td>0.052273</td>\n",
       "    </tr>\n",
       "    <tr>\n",
       "      <th>2</th>\n",
       "      <td>3</td>\n",
       "      <td>0.375786</td>\n",
       "      <td>0.277778</td>\n",
       "      <td>Male</td>\n",
       "      <td>No</td>\n",
       "      <td>Sun</td>\n",
       "      <td>Dinner</td>\n",
       "      <td>0.4</td>\n",
       "      <td>0.237261</td>\n",
       "      <td>0.194083</td>\n",
       "      <td>1</td>\n",
       "      <td>1</td>\n",
       "      <td>0</td>\n",
       "      <td>1</td>\n",
       "      <td>0.261364</td>\n",
       "    </tr>\n",
       "    <tr>\n",
       "      <th>3</th>\n",
       "      <td>4</td>\n",
       "      <td>0.431713</td>\n",
       "      <td>0.256667</td>\n",
       "      <td>Male</td>\n",
       "      <td>No</td>\n",
       "      <td>Sun</td>\n",
       "      <td>Dinner</td>\n",
       "      <td>0.2</td>\n",
       "      <td>0.515230</td>\n",
       "      <td>0.154352</td>\n",
       "      <td>1</td>\n",
       "      <td>1</td>\n",
       "      <td>0</td>\n",
       "      <td>1</td>\n",
       "      <td>0.427841</td>\n",
       "    </tr>\n",
       "    <tr>\n",
       "      <th>4</th>\n",
       "      <td>5</td>\n",
       "      <td>0.450775</td>\n",
       "      <td>0.290000</td>\n",
       "      <td>Female</td>\n",
       "      <td>No</td>\n",
       "      <td>Sun</td>\n",
       "      <td>Dinner</td>\n",
       "      <td>0.6</td>\n",
       "      <td>0.188075</td>\n",
       "      <td>0.164767</td>\n",
       "      <td>1</td>\n",
       "      <td>1</td>\n",
       "      <td>0</td>\n",
       "      <td>0</td>\n",
       "      <td>0.171307</td>\n",
       "    </tr>\n",
       "  </tbody>\n",
       "</table>\n",
       "</div>"
      ],
      "text/plain": [
       "   id  total_bill_amount  tip_amount     sex smoker  day    time  party_size  \\\n",
       "0   1           0.291579    0.001111  Female     No  Sun  Dinner         0.2   \n",
       "1   2           0.152283    0.073333    Male     No  Sun  Dinner         0.4   \n",
       "2   3           0.375786    0.277778    Male     No  Sun  Dinner         0.4   \n",
       "3   4           0.431713    0.256667    Male     No  Sun  Dinner         0.2   \n",
       "4   5           0.450775    0.290000  Female     No  Sun  Dinner         0.6   \n",
       "\n",
       "   bill_per_person  tip_percentage  is_weekend  meal_time  is_smoker  \\\n",
       "0         0.322989        0.035287           1          1          0   \n",
       "1         0.032854        0.185123           1          1          0   \n",
       "2         0.237261        0.194083           1          1          0   \n",
       "3         0.515230        0.154352           1          1          0   \n",
       "4         0.188075        0.164767           1          1          0   \n",
       "\n",
       "   sex_binary  tip_per_person  \n",
       "0           0        0.035795  \n",
       "1           1        0.052273  \n",
       "2           1        0.261364  \n",
       "3           1        0.427841  \n",
       "4           0        0.171307  "
      ]
     },
     "execution_count": 128,
     "metadata": {},
     "output_type": "execute_result"
    }
   ],
   "source": [
    "tipsData.head()"
   ]
  },
  {
   "cell_type": "code",
   "execution_count": 129,
   "metadata": {},
   "outputs": [
    {
     "name": "stdout",
     "output_type": "stream",
     "text": [
      "<class 'pandas.core.frame.DataFrame'>\n",
      "RangeIndex: 244 entries, 0 to 243\n",
      "Data columns (total 15 columns):\n",
      " #   Column             Non-Null Count  Dtype  \n",
      "---  ------             --------------  -----  \n",
      " 0   id                 244 non-null    int64  \n",
      " 1   total_bill_amount  244 non-null    float64\n",
      " 2   tip_amount         244 non-null    float64\n",
      " 3   sex                244 non-null    object \n",
      " 4   smoker             244 non-null    object \n",
      " 5   day                244 non-null    object \n",
      " 6   time               244 non-null    object \n",
      " 7   party_size         244 non-null    float64\n",
      " 8   bill_per_person    244 non-null    float64\n",
      " 9   tip_percentage     244 non-null    float64\n",
      " 10  is_weekend         244 non-null    int64  \n",
      " 11  meal_time          244 non-null    int64  \n",
      " 12  is_smoker          244 non-null    int64  \n",
      " 13  sex_binary         244 non-null    int64  \n",
      " 14  tip_per_person     244 non-null    float64\n",
      "dtypes: float64(6), int64(5), object(4)\n",
      "memory usage: 28.7+ KB\n"
     ]
    }
   ],
   "source": [
    "tipsData.info()"
   ]
  },
  {
   "cell_type": "markdown",
   "metadata": {},
   "source": [
    "== Visualisasi Dataset == "
   ]
  },
  {
   "cell_type": "markdown",
   "metadata": {},
   "source": [
    "1. Pie Chart"
   ]
  },
  {
   "cell_type": "markdown",
   "metadata": {},
   "source": [
    "Tampilkan terlebih dahulu seberapa banyak value/record dalam suatu kolom, pada attribute time terdapat dua jenis record berupa waktu makan pengunjung yaitu Dinner (Makan malam) dan Lunch (Makan siang). Dengan menjalankan fungsi value_counts diketahui bahwa ada sebanyak 176 records Dinner dan 68 records Lunch pada atrribute time."
   ]
  },
  {
   "cell_type": "code",
   "execution_count": 130,
   "metadata": {},
   "outputs": [
    {
     "data": {
      "text/plain": [
       "time\n",
       "Dinner    176\n",
       "Lunch      68\n",
       "Name: count, dtype: int64"
      ]
     },
     "execution_count": 130,
     "metadata": {},
     "output_type": "execute_result"
    }
   ],
   "source": [
    "pieC = tipsData.time.value_counts()\n",
    "\n",
    "pieC"
   ]
  },
  {
   "cell_type": "markdown",
   "metadata": {},
   "source": [
    "Menampilkan Grafik Pie Chart"
   ]
  },
  {
   "cell_type": "markdown",
   "metadata": {},
   "source": [
    "Pada tampilan grafik pie chart, dihasilkan persentase :\n",
    "\n",
    "Dinner (Makan malam) : 72.1% \n",
    "\n",
    "Lunch (Makan siang) : 27.9% \n",
    "\n",
    "*Keterangan : \n",
    "\n",
    "Bagian Biru : Menunjukkan bagian dinner\n",
    "\n",
    "Bagian Oranye : Menunjukkan bagian lunch\n",
    "\n",
    "Sehingga dapat disimpulkan bahwa mayoritas pengunjung restoran datang pada waktu makan malam."
   ]
  },
  {
   "cell_type": "code",
   "execution_count": 131,
   "metadata": {},
   "outputs": [
    {
     "data": {
      "image/png": "[encoded data removed]",
      "text/plain": [
       "<Figure size 800x700 with 1 Axes>"
      ]
     },
     "metadata": {},
     "output_type": "display_data"
    }
   ],
   "source": [
    "plt.figure(figsize=(8, 7))\n",
    "plt.pie(pieC, labels = pieC.index, autopct = \"%1.1f%%\")\n",
    "plt.title('Distribusi Data Waktu Makan Pengunjung')\n",
    "\n",
    "plt.show()"
   ]
  },
  {
   "cell_type": "markdown",
   "metadata": {},
   "source": [
    "2. Grafik Batang"
   ]
  },
  {
   "cell_type": "markdown",
   "metadata": {},
   "source": [
    "Hitung terlebih dahulu berapa banyak jumlah record di dalam attribute time dengan value_counts yang nantinya akan menjadi rentang nilai pada koordinat y pada grafik."
   ]
  },
  {
   "cell_type": "code",
   "execution_count": 132,
   "metadata": {},
   "outputs": [
    {
     "data": {
      "text/plain": [
       "time\n",
       "Dinner    176\n",
       "Lunch      68\n",
       "Name: count, dtype: int64"
      ]
     },
     "execution_count": 132,
     "metadata": {},
     "output_type": "execute_result"
    }
   ],
   "source": [
    "time = tipsData['time'].value_counts() \n",
    "\n",
    "time"
   ]
  },
  {
   "cell_type": "markdown",
   "metadata": {},
   "source": [
    "Menampilkan Grafik Batang"
   ]
  },
  {
   "cell_type": "markdown",
   "metadata": {},
   "source": [
    "Pada tampilan grafik batang, dihasilkan rata-rata jumlah :\n",
    "\n",
    "Dinner (Makan malam) : 175 pengunjung\n",
    "\n",
    "Lunch (Makan siang) : 68 pengunjung\n",
    "\n",
    "*Keterangan : \n",
    "\n",
    "Bar Hijau : Menunjukkan bagian dinner\n",
    "\n",
    "Bar Ungu : Menunjukkan bagian lunch\n",
    "\n",
    "Sehingga dapat disimpulkan bahwa mayoritas pengunjung restoran datang pada waktu makan malam."
   ]
  },
  {
   "cell_type": "code",
   "execution_count": 133,
   "metadata": {},
   "outputs": [
    {
     "data": {
      "image/png": "[encoded data removed]",
      "text/plain": [
       "<Figure size 800x700 with 1 Axes>"
      ]
     },
     "metadata": {},
     "output_type": "display_data"
    }
   ],
   "source": [
    "plt.figure(figsize=(8, 7))\n",
    "plt.bar(pieC.index, time, color=['green', 'purple'])\n",
    "plt.title(\"Rata-rata Waktu Makan Pengunjung\")\n",
    "plt.xlabel(\"Waktu Makan\")\n",
    "plt.ylabel(\"Rata-Rata Pengunjung\")\n",
    "\n",
    "plt.show()"
   ]
  },
  {
   "cell_type": "markdown",
   "metadata": {},
   "source": [
    "3. Histogram"
   ]
  },
  {
   "cell_type": "markdown",
   "metadata": {},
   "source": [
    "Pada grafik histogram akan digunakan record dari attribute day untuk melihat distribusi data waktu makan pengunjung pada tiap hari buka restoran."
   ]
  },
  {
   "cell_type": "code",
   "execution_count": 134,
   "metadata": {},
   "outputs": [
    {
     "data": {
      "text/html": [
       "<div>\n",
       "<style scoped>\n",
       "    .dataframe tbody tr th:only-of-type {\n",
       "        vertical-align: middle;\n",
       "    }\n",
       "\n",
       "    .dataframe tbody tr th {\n",
       "        vertical-align: top;\n",
       "    }\n",
       "\n",
       "    .dataframe thead th {\n",
       "        text-align: right;\n",
       "    }\n",
       "</style>\n",
       "<table border=\"1\" class=\"dataframe\">\n",
       "  <thead>\n",
       "    <tr style=\"text-align: right;\">\n",
       "      <th></th>\n",
       "      <th>day</th>\n",
       "      <th>time</th>\n",
       "    </tr>\n",
       "  </thead>\n",
       "  <tbody>\n",
       "    <tr>\n",
       "      <th>0</th>\n",
       "      <td>Sun</td>\n",
       "      <td>Dinner</td>\n",
       "    </tr>\n",
       "    <tr>\n",
       "      <th>1</th>\n",
       "      <td>Sun</td>\n",
       "      <td>Dinner</td>\n",
       "    </tr>\n",
       "    <tr>\n",
       "      <th>2</th>\n",
       "      <td>Sun</td>\n",
       "      <td>Dinner</td>\n",
       "    </tr>\n",
       "    <tr>\n",
       "      <th>3</th>\n",
       "      <td>Sun</td>\n",
       "      <td>Dinner</td>\n",
       "    </tr>\n",
       "    <tr>\n",
       "      <th>4</th>\n",
       "      <td>Sun</td>\n",
       "      <td>Dinner</td>\n",
       "    </tr>\n",
       "    <tr>\n",
       "      <th>...</th>\n",
       "      <td>...</td>\n",
       "      <td>...</td>\n",
       "    </tr>\n",
       "    <tr>\n",
       "      <th>239</th>\n",
       "      <td>Sat</td>\n",
       "      <td>Dinner</td>\n",
       "    </tr>\n",
       "    <tr>\n",
       "      <th>240</th>\n",
       "      <td>Sat</td>\n",
       "      <td>Dinner</td>\n",
       "    </tr>\n",
       "    <tr>\n",
       "      <th>241</th>\n",
       "      <td>Sat</td>\n",
       "      <td>Dinner</td>\n",
       "    </tr>\n",
       "    <tr>\n",
       "      <th>242</th>\n",
       "      <td>Sat</td>\n",
       "      <td>Dinner</td>\n",
       "    </tr>\n",
       "    <tr>\n",
       "      <th>243</th>\n",
       "      <td>Thur</td>\n",
       "      <td>Dinner</td>\n",
       "    </tr>\n",
       "  </tbody>\n",
       "</table>\n",
       "<p>244 rows × 2 columns</p>\n",
       "</div>"
      ],
      "text/plain": [
       "      day    time\n",
       "0     Sun  Dinner\n",
       "1     Sun  Dinner\n",
       "2     Sun  Dinner\n",
       "3     Sun  Dinner\n",
       "4     Sun  Dinner\n",
       "..    ...     ...\n",
       "239   Sat  Dinner\n",
       "240   Sat  Dinner\n",
       "241   Sat  Dinner\n",
       "242   Sat  Dinner\n",
       "243  Thur  Dinner\n",
       "\n",
       "[244 rows x 2 columns]"
      ]
     },
     "execution_count": 134,
     "metadata": {},
     "output_type": "execute_result"
    }
   ],
   "source": [
    "day = tipsData.iloc[:, 5:7]\n",
    "\n",
    "day"
   ]
  },
  {
   "cell_type": "markdown",
   "metadata": {},
   "source": [
    "Menghitung banyak pengunjung pada tiap hari buka restoran. Hasil yang didapatkan adalah :\n",
    "\n",
    "Sabtu (Sat) : 87 pengunjung\n",
    "\n",
    "Minggu (Sun) : 76 pengunjung\n",
    "\n",
    "Kamis (Thur) : 62 pengunjung\n",
    "\n",
    "Jumat (Fri) : 19 pengunjung"
   ]
  },
  {
   "cell_type": "code",
   "execution_count": 135,
   "metadata": {},
   "outputs": [
    {
     "data": {
      "text/plain": [
       "day\n",
       "Sat     87\n",
       "Sun     76\n",
       "Thur    62\n",
       "Fri     19\n",
       "Name: count, dtype: int64"
      ]
     },
     "execution_count": 135,
     "metadata": {},
     "output_type": "execute_result"
    }
   ],
   "source": [
    "countDay = tipsData['day'].value_counts() \n",
    "\n",
    "countDay\n"
   ]
  },
  {
   "cell_type": "markdown",
   "metadata": {},
   "source": [
    "Memisahkan jumlah pengunjung yang datang pada waktu makan malam dan makan siang berdasarkan harinya."
   ]
  },
  {
   "cell_type": "code",
   "execution_count": 136,
   "metadata": {},
   "outputs": [],
   "source": [
    "Sat = tipsData[tipsData['day'] == 'Sat']['time']\n",
    "Sun = tipsData[tipsData['day'] == 'Sun']['time']\n",
    "Thur = tipsData[tipsData['day'] == 'Thur']['time']\n",
    "Fri = tipsData[tipsData['day'] == 'Fri']['time']"
   ]
  },
  {
   "cell_type": "markdown",
   "metadata": {},
   "source": [
    "Menampilkan Histogram"
   ]
  },
  {
   "cell_type": "markdown",
   "metadata": {},
   "source": [
    "Pada grafik dihasilkan jumlah pengunjung berdasarkan waktu makan dan harinya dengan keterangan sebagai berikut :\n",
    "\n",
    "Waktu makan malam (Dinner) :\n",
    "\n",
    "1. Pada hari Sabtu kira-kira ada sebanyak 87 pengunjung yang datang pada waktu makan malam.\n",
    "\n",
    "2. Pada hari Minggu kira-kira ada sebanyak 76 pengunjung yang datang pada waktu makan malam.\n",
    "\n",
    "3. Pada hari Kamis kira-kira ada sebanyak 2 pengunjung yang datang pada waktu makan malam.\n",
    "\n",
    "4. Pada hari Jumat kira-kira ada sebanyak 10 pengunjung yang datang pada waktu makan malam.\n",
    "\n",
    "Waktu makan siang (Lunch) :\n",
    "\n",
    "1. Pada hari Kamis kira-kira ada sebanyak 60 pengunjung yang datang pada waktu makan siang.\n",
    "\n",
    "1. Pada hari Jumat kira-kira ada sebanyak 9 pengunjung yang datang pada waktu makan siang.\n",
    "\n",
    "*Keterangan :\n",
    "\n",
    "Bar Kuning : Hari Sabtu\n",
    "\n",
    "Bar Pink : Hari Minggu \n",
    "\n",
    "Bar Hijau : Hari Kamis\n",
    "\n",
    "Bar Teal : Hari Jumat"
   ]
  },
  {
   "cell_type": "code",
   "execution_count": 137,
   "metadata": {},
   "outputs": [
    {
     "data": {
      "image/png": "[encoded data removed]",
      "text/plain": [
       "<Figure size 800x700 with 1 Axes>"
      ]
     },
     "metadata": {},
     "output_type": "display_data"
    }
   ],
   "source": [
    "plt.figure(figsize=(8, 7))\n",
    "plt.hist([Sat, Sun, Thur, Fri], bins=3, color=['yellow', 'pink', 'green', 'teal'], label=['Dinner', 'Lunch'])\n",
    "plt.title(\"Distribusi Pengunjung\")\n",
    "plt.xlabel(\"Waktu Makan\")\n",
    "plt.ylabel(\"Hari\")\n",
    "\n",
    "plt.legend()  \n",
    "plt.show()"
   ]
  },
  {
   "cell_type": "markdown",
   "metadata": {},
   "source": [
    "4. Heatmap"
   ]
  },
  {
   "cell_type": "markdown",
   "metadata": {},
   "source": [
    "Pada grafik ini akan menunjukkan korelasi dari attribute yang memiliki record numerik. Beberapa yang ditampilkan hubungan korelasinya adalah antara attribute 'tip_per_person', 'tip_amount', 'tip_percentage', dan yang terakhir adalah 'time_numeric' yang merupakan attribute 'time' yang diubah ke dalam bentuk numerik nilainya sehingga dapat ditampilkan dalam Heatmap."
   ]
  },
  {
   "cell_type": "markdown",
   "metadata": {},
   "source": [
    "Mengubah record attribute 'time' ke dalam numerik. Dimana angka 1 akan menjadi pengganti record 'Dinner' dan sisanya yaitu 'Lunch' akan menjadi angka 0."
   ]
  },
  {
   "cell_type": "code",
   "execution_count": 138,
   "metadata": {},
   "outputs": [],
   "source": [
    "tipsData['time_numeric'] = tipsData['time'].apply(lambda x: 1 if x.strip() == 'Dinner' else 0)"
   ]
  },
  {
   "cell_type": "markdown",
   "metadata": {},
   "source": [
    "Menentukan attribute dari dataset yang akan ditampilkan pada grafik dan menyertakan attribute 'time_numeric' yang sebelumnya adalah hasil modifikasi record ke numerik."
   ]
  },
  {
   "cell_type": "code",
   "execution_count": 139,
   "metadata": {},
   "outputs": [],
   "source": [
    "numericAtt = ['tip_per_person', 'tip_amount', 'tip_percentage', 'time_numeric']"
   ]
  },
  {
   "cell_type": "code",
   "execution_count": 140,
   "metadata": {},
   "outputs": [],
   "source": [
    "corr = tipsData[numericAtt].corr()"
   ]
  },
  {
   "cell_type": "markdown",
   "metadata": {},
   "source": [
    "Menampilkan Heatmap"
   ]
  },
  {
   "cell_type": "markdown",
   "metadata": {},
   "source": [
    "Pada grafik dihasilkan korelasi antar attribute dengan representasi warna yang berbeda dan menunjukkan pola seberapa tinggi jumlah tiap tip yang diperoleh dari per orang beserta persentasenya dari tiap time numeric yaitu jam makan pengunjung restoran yang datang.\n",
    "\n",
    "*Keterangan :\n",
    "Semakin gelap warna pola maka semakin tinggi nilainya, biru adalah representasi untuk nilai terendah dan warna merah terang adalah representasi untuk nilai tertinggi."
   ]
  },
  {
   "cell_type": "code",
   "execution_count": 141,
   "metadata": {},
   "outputs": [
    {
     "data": {
      "image/png": "[encoded data removed]",
      "text/plain": [
       "<Figure size 900x700 with 2 Axes>"
      ]
     },
     "metadata": {},
     "output_type": "display_data"
    }
   ],
   "source": [
    "plt.figure(figsize=(9, 7))\n",
    "plt.title('Pola Korelasi Pendapatan Tip')\n",
    "sns.heatmap(corr, cmap='coolwarm', annot=True, fmt=\".2f\")\n",
    "\n",
    "plt.show()"
   ]
  }
 ],
 "metadata": {
  "kernelspec": {
   "display_name": "Python 3",
   "language": "python",
   "name": "python3"
  },
  "language_info": {
   "codemirror_mode": {
    "name": "ipython",
    "version": 3
   },
   "file_extension": ".py",
   "mimetype": "text/x-python",
   "name": "python",
   "nbconvert_exporter": "python",
   "pygments_lexer": "ipython3",
   "version": "3.10.7"
  },
  "orig_nbformat": 4
 },
 "nbformat": 4,
 "nbformat_minor": 2
}
